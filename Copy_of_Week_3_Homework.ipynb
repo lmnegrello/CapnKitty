{
  "nbformat": 4,
  "nbformat_minor": 0,
  "metadata": {
    "colab": {
      "provenance": [],
      "include_colab_link": true
    },
    "kernelspec": {
      "name": "python3",
      "display_name": "Python 3"
    },
    "language_info": {
      "name": "python"
    }
  },
  "cells": [
    {
      "cell_type": "markdown",
      "metadata": {
        "id": "view-in-github",
        "colab_type": "text"
      },
      "source": [
        "<a href=\"https://colab.research.google.com/github/lmnegrello/CapnKitty/blob/main/Copy_of_Week_3_Homework.ipynb\" target=\"_parent\"><img src=\"https://colab.research.google.com/assets/colab-badge.svg\" alt=\"Open In Colab\"/></a>"
      ]
    },
    {
      "cell_type": "markdown",
      "source": [
        "# Week 3 Homework\n",
        "\n",
        "(Be sure to copy to drive first)\n",
        "\n",
        "For this homework we are going to apply some text analysis stuff to a collection of PDF file that I'll ask you to put together."
      ],
      "metadata": {
        "id": "Q0Zo96Ce9als"
      }
    },
    {
      "cell_type": "code",
      "execution_count": null,
      "metadata": {
        "id": "plqKSsgM9Ycb"
      },
      "outputs": [],
      "source": [
        "#Install / load our libraries and connect to Google Drive\n",
        "\n",
        "!pip install pypdf\n",
        "\n",
        "#Colab has a special library just for working with files on google drive\n",
        "from google.colab import drive\n",
        "\n",
        "\n",
        "#This is a new library we'll use to extract text from PDFs\n",
        "from pypdf import PdfReader\n",
        "\n",
        "\n",
        "import textblob\n",
        "import pandas as pd\n",
        "import numpy as np\n",
        "import glob\n",
        "\n",
        "#Some extra libraries we'll need for text analysis\n",
        "import nltk\n",
        "nltk.download('punkt')\n",
        "nltk.download('brown')\n",
        "nltk.download('punkt_tab')\n",
        "\n",
        "#Connect to Gdrive\n",
        "drive.mount('/content/gdrive')\n",
        "\n",
        "print(\"Libraries and Drive Ready!\")"
      ]
    },
    {
      "cell_type": "markdown",
      "source": [
        "**H1**\n",
        "\n",
        "\n",
        "Part of the work for this week is going to be finding a collection of 6 or so PDFs. These PDFS ideally should be on the same thing (journal articles on the same topic). Additionally these PDFs whould be Open Access, or the very least obtained lawfully * ***ahem*** *.\n",
        "\n",
        "Copy these 6 PDFs into the `LibraryJuicePython` folder on Google Drive. We'll be peforming some text analysis on these files."
      ],
      "metadata": {
        "id": "crlW8hc4XmMW"
      }
    },
    {
      "cell_type": "code",
      "source": [
        "#Run this cell to see the files in your directory\n",
        "for file in glob.glob(\"/content/gdrive/MyDrive/LibraryJuicePython/*.pdf\"):\n",
        "  print(file)"
      ],
      "metadata": {
        "id": "hdYxiWbaaX6y"
      },
      "execution_count": null,
      "outputs": []
    },
    {
      "cell_type": "markdown",
      "source": [
        "# Exracting the text from the PDFs\n",
        "\n",
        "We'll use a Python Library to create a text file of the contents of the PDF file."
      ],
      "metadata": {
        "id": "iHnzIlqHbil-"
      }
    },
    {
      "cell_type": "code",
      "source": [
        "\n",
        "for file in glob.glob(\"/content/gdrive/MyDrive/LibraryJuicePython/*.pdf\"):\n",
        "  filename = file.split(\"/\")[-1]\n",
        "  print(\"Extracting text for... \",filename)\n",
        "\n",
        "  text = \"\"\n",
        "  #This bit is new!\n",
        "  reader = PdfReader(file)\n",
        "  for page in reader.pages:\n",
        "    text += page.extract_text()\n",
        "\n",
        "  #Output the string variable into a text file\n",
        "  output_text_file = filename+\".txt\"\n",
        "  with open(output_text_file, \"w\") as text_file:\n",
        "    text_file.write(text)"
      ],
      "metadata": {
        "id": "vJW_SqpybeTJ"
      },
      "execution_count": null,
      "outputs": []
    },
    {
      "cell_type": "markdown",
      "source": [
        "# Sentiment of our PDFs\n",
        "\n",
        "Let's just print our sentiment scores to the screen for now."
      ],
      "metadata": {
        "id": "Odn0QuzyfsS1"
      }
    },
    {
      "cell_type": "code",
      "source": [
        "for file in glob.glob(\"*.txt\"):\n",
        "  print(\"Sentiment for \",file)\n",
        "  with open(file,\"r\") as text_file:\n",
        "    text = text_file.read()\n",
        "    blob = textblob.TextBlob(text)\n",
        "    print(blob.sentiment)\n",
        "    print(\"---\")"
      ],
      "metadata": {
        "id": "f-7iyRJwf1WT"
      },
      "execution_count": null,
      "outputs": []
    },
    {
      "cell_type": "markdown",
      "source": [
        "# Noun Phrases of our PDFs\n",
        "\n",
        "We'll just do the top 3 keywords of each file and display it to the screen"
      ],
      "metadata": {
        "id": "IJTnMcRmfu4x"
      }
    },
    {
      "cell_type": "code",
      "source": [
        "for file in glob.glob(\"*.txt\"):\n",
        "  print(\"Top 5 Phrases for \",file)\n",
        "  with open(file,\"r\") as text_file:\n",
        "    text = text_file.read()\n",
        "\n",
        "  blob = textblob.TextBlob(text)\n",
        "  nphrases = dict()\n",
        "\n",
        "  for np in blob.noun_phrases:\n",
        "    if np in nphrases:\n",
        "         nphrases[np] += 1\n",
        "    else:\n",
        "         nphrases[np] = 1\n",
        "\n",
        "  for np in sorted(nphrases, key=nphrases.get, reverse=True)[0:3]:\n",
        "      print(np, nphrases[np])\n",
        "\n",
        "  print(\"---\")"
      ],
      "metadata": {
        "id": "m29mk0GUf1uy"
      },
      "execution_count": null,
      "outputs": []
    },
    {
      "cell_type": "markdown",
      "source": [
        "\n",
        "# Dataframe of results\n",
        "\n",
        "Let's put our findings into a dataframe and save them to our drive. (We will use these PDFs again in our Week 4 work)"
      ],
      "metadata": {
        "id": "v17NlI3KlaSP"
      }
    },
    {
      "cell_type": "code",
      "source": [
        "\n",
        "data_set = []\n",
        "\n",
        "for file in glob.glob(\"*.txt\"):\n",
        "\n",
        "  pdf_detail = []\n",
        "\n",
        "  with open(file,\"r\") as text_file:\n",
        "    text = text_file.read()\n",
        "  blob = textblob.TextBlob(text)\n",
        "\n",
        "  print(\"working on \",file)\n",
        "  pdf_detail.append(file)\n",
        "  pdf_detail.append(blob.sentiment.polarity)\n",
        "  pdf_detail.append(blob.sentiment.subjectivity)\n",
        "\n",
        "\n",
        "  nphrases = dict()\n",
        "  for np in blob.noun_phrases:\n",
        "    if np in nphrases:\n",
        "      nphrases[np] += 1\n",
        "    else:\n",
        "      nphrases[np] = 1\n",
        "\n",
        "  #This is a weird way to find the top three keywords\n",
        "  #This is an example of 'hacky' code\n",
        "\n",
        "  #we loop through the first entry [0:1] in the sorted keyword list\n",
        "  #giving us keyword one\n",
        "  for np in sorted(nphrases, key=nphrases.get, reverse=True)[0:1]:\n",
        "      keyword_one = np\n",
        "      pdf_detail.append(keyword_one)\n",
        "\n",
        "  #we loop through the first entry [1:2] in the sorted keyword list\n",
        "  #giving us keyword two\n",
        "  for np in sorted(nphrases, key=nphrases.get, reverse=True)[1:2]:\n",
        "      keyword_two = np\n",
        "      pdf_detail.append(keyword_two)\n",
        "\n",
        "  #we loop through the first entry [2:3] in the sorted keyword list\n",
        "  #giving us keyword two\n",
        "  for np in sorted(nphrases, key=nphrases.get, reverse=True)[2:3]:\n",
        "      keyword_three = np\n",
        "      pdf_detail.append(keyword_three)\n",
        "\n",
        "  data_set.append(pdf_detail)\n",
        "  print(pdf_detail)\n",
        "  print(\"---\")\n"
      ],
      "metadata": {
        "id": "REUlvB6glsFI"
      },
      "execution_count": null,
      "outputs": []
    },
    {
      "cell_type": "code",
      "source": [
        "#We now have a list of lists\n",
        "#This sorta looks like JSON doesn't it?\n",
        "data_set"
      ],
      "metadata": {
        "id": "MdsgrzN4SaEQ"
      },
      "execution_count": null,
      "outputs": []
    },
    {
      "cell_type": "code",
      "source": [
        "#Let's turn this list of lists into a pandas dataframe\n",
        "pdf_dataframe = pd.DataFrame(data_set)\n",
        "pdf_dataframe"
      ],
      "metadata": {
        "id": "J97yyY1PSoH9"
      },
      "execution_count": null,
      "outputs": []
    },
    {
      "cell_type": "markdown",
      "source": [
        "**H2**\n",
        "\n",
        "Our dataframe needs better column names. Put the appropriate values into the list below on line 1 to update the column names."
      ],
      "metadata": {
        "id": "teCBxk1NTkGa"
      }
    },
    {
      "cell_type": "code",
      "source": [
        "column_names = [\"1\",\"2\",\"3\",\"4\",\"5\",\"6\"]\n",
        "pdf_dataframe.columns = column_names\n",
        "pdf_dataframe"
      ],
      "metadata": {
        "id": "mu6bLHFATjrn"
      },
      "execution_count": null,
      "outputs": []
    },
    {
      "cell_type": "markdown",
      "source": [
        "# Save our data\n",
        "\n",
        "We'll save our dataframe as a CSV file and put it in our usual folder."
      ],
      "metadata": {
        "id": "LKbAG3rQUG84"
      }
    },
    {
      "cell_type": "code",
      "source": [
        "pdf_dataframe.to_csv(\"adv_week3_homework.csv\", index=False)\n",
        "!cp adv_week3_homework.csv /content/gdrive/MyDrive/LibraryJuicePython"
      ],
      "metadata": {
        "id": "hSIvN1m2UTc4"
      },
      "execution_count": null,
      "outputs": []
    },
    {
      "cell_type": "markdown",
      "source": [
        "**H3** Take a moment to reflect on what your data analysis says about your PDF files. Jot down some reflections in the cell below."
      ],
      "metadata": {
        "id": "8XQ7ZmyHUTxE"
      }
    },
    {
      "cell_type": "markdown",
      "source": [
        "My analysis tells me..."
      ],
      "metadata": {
        "id": "pmgIIZgsUhcg"
      }
    },
    {
      "cell_type": "markdown",
      "source": [
        "\n",
        "# All Done!\n",
        "\n",
        "Congrats you are finished with this week's work. Don't forget to click the `Share` button above and enter `libraryjuicepresspython@gmail.com` so I can get a shared copy of your work. Save this as a PDF and upload it to the Library Juice Academy site."
      ],
      "metadata": {
        "id": "5HStpe789dJg"
      }
    }
  ]
}