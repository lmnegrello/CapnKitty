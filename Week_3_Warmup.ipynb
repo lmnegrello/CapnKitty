{
  "nbformat": 4,
  "nbformat_minor": 0,
  "metadata": {
    "colab": {
      "provenance": []
    },
    "kernelspec": {
      "name": "python3",
      "display_name": "Python 3"
    },
    "language_info": {
      "name": "python"
    }
  },
  "cells": [
    {
      "cell_type": "markdown",
      "source": [
        "# Week 3 Warm up Activity\n",
        "\n",
        "We've been doing a lot of different things with libraries in all of our weeks together. Everytime we use `import` we pull in additional functionality that was built into a library.\n",
        "\n",
        "We'll spend some time now looking at the why and how of this process. Just run the cells below to follow along."
      ],
      "metadata": {
        "id": "5_0KHCTx9bm7"
      }
    },
    {
      "cell_type": "code",
      "execution_count": 1,
      "metadata": {
        "id": "njTHblQ49QT9"
      },
      "outputs": [],
      "source": [
        "#Our usual method of importing a library\n",
        "\n",
        "import pandas as pd"
      ]
    },
    {
      "cell_type": "markdown",
      "source": [
        "# Jupyter Magic Commands and Shell Commands\n",
        "\n",
        "If we want our code cell to modify or examine the Jupyter environment we need to use different tactics.\n",
        "\n",
        "\n",
        "If we want to run a shell command in Jupyter we preface it with a `!`.\n",
        "\n",
        "Learning shell scripting is a wonderful skill that would be a good follow up to this course. You can start by looking at the Software Carpentry Novice Shell [tutorial](https://swcarpentry.github.io/shell-novice/) to start.\n"
      ],
      "metadata": {
        "id": "1IQi1IsNArjd"
      }
    },
    {
      "cell_type": "code",
      "source": [
        "# We'll run the classic du (*disk* *usage* utility) to see how much\n",
        "# space files use in the sample data that comes in each notebook that you\n",
        "# start with in Colab.\n",
        "#\n",
        "# You can see these files in a graphical browser by click in the folder icon\n",
        "# in the column to the left\n",
        "\n",
        "!du -h ./sample_data/*"
      ],
      "metadata": {
        "id": "o1cd9bhhBf-H",
        "outputId": "cb7c7fe3-9c63-49bb-d249-60c507369f6e",
        "colab": {
          "base_uri": "https://localhost:8080/"
        }
      },
      "execution_count": 2,
      "outputs": [
        {
          "output_type": "stream",
          "name": "stdout",
          "text": [
            "4.0K\t./sample_data/anscombe.json\n",
            "296K\t./sample_data/california_housing_test.csv\n",
            "1.7M\t./sample_data/california_housing_train.csv\n",
            "18M\t./sample_data/mnist_test.csv\n",
            "35M\t./sample_data/mnist_train_small.csv\n",
            "4.0K\t./sample_data/README.md\n"
          ]
        }
      ]
    },
    {
      "cell_type": "markdown",
      "source": [
        "## % Line Magics\n",
        "\n",
        "Whenever we see a line that starts with a percentage character in a cell we are giving special instructions to the Jupyter notebook environment. This is typically used to tweak the environment in someway. We've used this all the time when we import Matplot lib\n"
      ],
      "metadata": {
        "id": "YuxbEXTXDD3t"
      }
    },
    {
      "cell_type": "code",
      "source": [
        "#This should look familiar,\n",
        "#We've been doing this to get Matplotlib to play nice in the Jupyter environment\n",
        "#This is only mentioned for completeness, we won't spend anymore time on line magics\n",
        "\n",
        "import matplotlib.pyplot as plt\n",
        "%matplotlib inline"
      ],
      "metadata": {
        "id": "0rtuYsOLDCRD"
      },
      "execution_count": null,
      "outputs": []
    },
    {
      "cell_type": "markdown",
      "source": [
        "# Now onto PIP\n",
        "\n",
        "[pip](https://en.wikipedia.org/wiki/Pip_(package_manager)) is the shell command that will install new libraries into your environment. You can use `pip` to install different versions of libraries as well. Sometimes if you are really deep in the weeds you'll need to install a specific version of a library for compatibility reasons. Run the cells below to see some `pip` action"
      ],
      "metadata": {
        "id": "oY6Mebm0EhHk"
      }
    },
    {
      "cell_type": "code",
      "source": [
        "#print out pip 'help'\n",
        "!pip -h"
      ],
      "metadata": {
        "id": "qroXlnMWAafU"
      },
      "execution_count": null,
      "outputs": []
    },
    {
      "cell_type": "code",
      "source": [
        "#use pip to check what version a library is\n",
        "!pip show pandas"
      ],
      "metadata": {
        "id": "OESQHQOhFJgW"
      },
      "execution_count": null,
      "outputs": []
    },
    {
      "cell_type": "markdown",
      "source": [
        "# Bringing it all together now...\n",
        "\n",
        "If you are using a very esoteric library that isn't included in the basic collection of Python libraries you will need to `pip install` it before you can import it.\n",
        "\n",
        "We'll use a library called [pyDataverse](https://pydataverse.readthedocs.io/en/latest/) as our example. I work with Dataverse in [other parts of my job](https://github.com/elibtronic/Borealis_Helper_Notebooks/tree/main) and it creates a nice Python API interface for that platform.\n",
        "\n",
        "(Here's a quick [video](https://youtu.be/F131ZAyeNKY?t=9594) of how I use this Library for my job.)\n"
      ],
      "metadata": {
        "id": "qQtkDO6dFWkK"
      }
    },
    {
      "cell_type": "code",
      "source": [
        "#This will cause an error\n",
        "import pyDataverse"
      ],
      "metadata": {
        "id": "gnJ0gjnMGQB_"
      },
      "execution_count": null,
      "outputs": []
    },
    {
      "cell_type": "code",
      "source": [
        "#We'll use pip to install it...\n",
        "!pip install pyDataverse"
      ],
      "metadata": {
        "id": "jEmTGfVWG8cu"
      },
      "execution_count": null,
      "outputs": []
    },
    {
      "cell_type": "code",
      "source": [
        "#Ah, that's better...\n",
        "import pyDataverse"
      ],
      "metadata": {
        "id": "EoPoH7XoHCTK"
      },
      "execution_count": null,
      "outputs": []
    },
    {
      "cell_type": "markdown",
      "source": [
        "## All told...\n",
        "\n",
        "When you are using the Google Colab environment keeping track of what libraries are installed and the dependencies between them is pretty easy. It comes down to:\n",
        "\n",
        "- try to `import` the library\n",
        "- if that fails, `!pip install` that library, then `import`\n",
        "\n",
        "When you **Disconnect and delete** the runtime, or close the tab, the environment you created goes away, you'll need to build it from scratch next time you run your Colab notebook. This includes connecting to Google Drive again.\n",
        "\n",
        "Things get more complex if you a running notebooks on your local computer. For example if you are using Anaconda, you'll need to spend some time [working with environments](https://docs.anaconda.com/ae-notebooks/user-guide/adv-tasks/work-with-environments/). That is outside of the scope of what we handle in this class, but will be essential to spend some time on if you run things locally."
      ],
      "metadata": {
        "id": "jcGlJIek-DQK"
      }
    }
  ]
}